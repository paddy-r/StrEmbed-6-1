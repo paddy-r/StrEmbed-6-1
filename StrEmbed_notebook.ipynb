{
 "cells": [
  {
   "cell_type": "markdown",
   "id": "fe74cd1e",
   "metadata": {},
   "source": [
    "# StrEmbed-6-1\n",
    "## Notebook with Docker image\n",
    "\n",
    "### Welcome to StrEmbed-6-1\n",
    "To run StrEmbed-6-1, click \"Run\" in this cell and the next, or click the double-arrow symbol to restart the Python kernel and run all cells"
   ]
  },
  {
   "cell_type": "code",
   "execution_count": null,
   "id": "0222be83",
   "metadata": {},
   "outputs": [
    {
     "name": "stdout",
     "output_type": "stream",
     "text": [
      "Verbose enabled\n",
      "\"nt\"\n",
      "Using device: cpu\n",
      "loading model: C:\\Users\\prehr\\OneDrive - University of Leeds\\__WORK SYNCED\\_Work\\_DCS project\\__ALL CODE\\_Repos\\StrEmbed-6-1\\StrEmbed-6-1\\partfindv1_frozen\\trained_models\\partfind_049.pt\n",
      "Trying to make new assembly with new page...\n",
      "Created new assembly with ID:  1\n",
      "Notebook page changing\n",
      "No previous page found\n",
      "Checked nodes in old page:  []\n",
      "Window size = (400, 250)\n",
      "Window size = (1936, 1066)\n",
      "Notebook page changed\n",
      "Notebook tab index:  0\n",
      "Notebook tab name:  None\n",
      "Active notebook tab: Assembly 1\n",
      "Assembly ID:  1\n",
      "Running DisplayLattice\n",
      "Called by:  OnNotebookPageChanged\n",
      "Trying to clear lattice axes...\n",
      "Done\n",
      "Could not remove head node: not present\n",
      "\n",
      "    Number of leaves:  0 \n",
      "\n",
      "Creating nCk dict for memoisation...\n",
      "Running \"update_colours_active\"\n",
      "Called by:  None\n",
      "Running \"update_colours_selected\"\n",
      "Called by:  DisplayLattice\n",
      "Active nodes:  []\n",
      "Active edges:  []\n",
      "selected:  []\n",
      "to_select:  []\n",
      "to_unselect:  []\n",
      "Finished \"DisplayLattice\"\n",
      "DoDraw called by  DisplayLattice\n",
      "Done \"draw\"\n",
      "Done canvas \"Show\"\n",
      "Done toolbar \"Show\"\n",
      "Lattice IDs of checked nodes:  []\n",
      "Nodes in new page:  []\n",
      "Trying to uncheck all ctc items in new page\n",
      "Trying to check ctc items in new page\n",
      "Window size = (1936, 1066)\n"
     ]
    }
   ],
   "source": [
    "%gui wx\n",
    "%run StrEmbed_6_1.py"
   ]
  },
  {
   "cell_type": "code",
   "execution_count": 2,
   "id": "93de2911",
   "metadata": {},
   "outputs": [],
   "source": []
  },
  {
   "cell_type": "code",
   "execution_count": null,
   "id": "a9277f45",
   "metadata": {},
   "outputs": [],
   "source": []
  }
 ],
 "metadata": {
  "kernelspec": {
   "display_name": "Python 3 (ipykernel)",
   "language": "python",
   "name": "python3"
  },
  "language_info": {
   "codemirror_mode": {
    "name": "ipython",
    "version": 3
   },
   "file_extension": ".py",
   "mimetype": "text/x-python",
   "name": "python",
   "nbconvert_exporter": "python",
   "pygments_lexer": "ipython3",
   "version": "3.9.16"
  }
 },
 "nbformat": 4,
 "nbformat_minor": 5
}
