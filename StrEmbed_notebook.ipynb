{
 "cells": [
  {
   "cell_type": "markdown",
   "id": "fe74cd1e",
   "metadata": {},
   "source": [
    "# StrEmbed-6-1\n",
    "## Notebook with Docker image\n",
    "\n",
    "### Welcome to StrEmbed-6-1\n",
    "To run StrEmbed-6-1, click \"Run\" in this cell and the next, or click the double-arrow symbol to restart the Python kernel and run all cells"
   ]
  },
  {
   "cell_type": "code",
   "execution_count": null,
   "id": "0222be83",
   "metadata": {},
   "outputs": [],
   "source": [
    "%gui wx\n",
    "%run StrEmbed_6_1.py"
   ]
  },
  {
   "cell_type": "code",
   "execution_count": 2,
   "id": "93de2911",
   "metadata": {},
   "outputs": [],
   "source": []
  },
  {
   "cell_type": "code",
   "execution_count": null,
   "id": "a9277f45",
   "metadata": {},
   "outputs": [],
   "source": []
  }
 ],
 "metadata": {
  "kernelspec": {
   "display_name": "Python 3 (ipykernel)",
   "language": "python",
   "name": "python3"
  },
  "language_info": {
   "codemirror_mode": {
    "name": "ipython",
    "version": 3
   },
   "file_extension": ".py",
   "mimetype": "text/x-python",
   "name": "python",
   "nbconvert_exporter": "python",
   "pygments_lexer": "ipython3",
   "version": "3.9.16"
  }
 },
 "nbformat": 4,
 "nbformat_minor": 5
}
